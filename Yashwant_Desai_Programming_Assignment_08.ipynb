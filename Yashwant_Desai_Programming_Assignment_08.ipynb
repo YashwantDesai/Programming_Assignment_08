{
 "cells": [
  {
   "cell_type": "markdown",
   "id": "0c27a818",
   "metadata": {},
   "source": [
    "# Yashwant Desai –  Programming_Assingment 08"
   ]
  },
  {
   "cell_type": "markdown",
   "id": "2f4debba",
   "metadata": {},
   "source": [
    "# 1.\tWrite a Python Program to Add Two Matrices?"
   ]
  },
  {
   "cell_type": "code",
   "execution_count": 1,
   "id": "a1f5b383",
   "metadata": {},
   "outputs": [
    {
     "name": "stdout",
     "output_type": "stream",
     "text": [
      "Matrix 1:\n",
      "[7, 8, 9]\n",
      "[10, 12, 18]\n",
      "[78, 88, 99]\n",
      "Matrix 2:\n",
      "[79, 88, 55]\n",
      "[67, 90, 64]\n",
      "[86, 90, 97]\n",
      "two matrices total:\n",
      "[86, 96, 64]\n",
      "[77, 102, 82]\n",
      "[164, 178, 196]\n"
     ]
    }
   ],
   "source": [
    "def add_two_matrices(matrix1, matrix2):\n",
    "    return [[matrix1[i][j] + matrix2[i][j] for j in range(len(matrix1[0]))] for i in range(len(matrix1))]\n",
    "\n",
    "matrix1 = [[7, 8, 9], [10, 12, 18], [78, 88, 99]]\n",
    "matrix2 = [[79, 88, 55], [67, 90, 64], [86, 90, 97]]\n",
    "\n",
    "result_matrix = add_two_matrices(matrix1, matrix2)\n",
    "\n",
    "print(\"Matrix 1:\")\n",
    "for row in matrix1:\n",
    "    print(row)\n",
    "\n",
    "print(\"Matrix 2:\")\n",
    "for row in matrix2:\n",
    "    print(row)\n",
    "\n",
    "print(\"two matrices total:\")\n",
    "for row in result_matrix:\n",
    "    print(row)"
   ]
  },
  {
   "cell_type": "markdown",
   "id": "e2d593f9",
   "metadata": {},
   "source": [
    "# 2.\tWrite a Python Program to Multiply Two Matrices?"
   ]
  },
  {
   "cell_type": "code",
   "execution_count": 2,
   "id": "7f5a9e37",
   "metadata": {},
   "outputs": [
    {
     "name": "stdout",
     "output_type": "stream",
     "text": [
      "Matrix 1:\n",
      "[7, 8, 9]\n",
      "[10, 12, 18]\n",
      "[78, 88, 99]\n",
      "Matrix 2:\n",
      "[79, 88, 55]\n",
      "[67, 90, 64]\n",
      "[86, 90, 97]\n",
      "multiply of two matrices:\n",
      "[553, 704, 495]\n",
      "[670, 1080, 1152]\n",
      "[6708, 7920, 9603]\n"
     ]
    }
   ],
   "source": [
    "def multiply_two_matrices(matrix1, matrix2):\n",
    "    return [[matrix1[i][j] * matrix2[i][j] for j in range(len(matrix1[0]))] for i in range(len(matrix1))]\n",
    "\n",
    "matrix1 = [[7, 8, 9], [10, 12, 18], [78, 88, 99]]\n",
    "matrix2 = [[79, 88, 55], [67, 90, 64], [86, 90, 97]]\n",
    "\n",
    "result_matrix = multiply_two_matrices(matrix1, matrix2)\n",
    "\n",
    "print(\"Matrix 1:\")\n",
    "for row in matrix1:\n",
    "    print(row)\n",
    "\n",
    "print(\"Matrix 2:\")\n",
    "for row in matrix2:\n",
    "    print(row)\n",
    "\n",
    "print(\"multiply of two matrices:\")\n",
    "for row in result_matrix:\n",
    "    print(row)"
   ]
  },
  {
   "cell_type": "markdown",
   "id": "990a0b09",
   "metadata": {},
   "source": [
    "# 3.\tWrite a Python Program to Transpose a Matrix?"
   ]
  },
  {
   "cell_type": "code",
   "execution_count": 3,
   "id": "71d1963c",
   "metadata": {},
   "outputs": [
    {
     "name": "stdout",
     "output_type": "stream",
     "text": [
      "Original Matrix:\n",
      "[79, 88, 55]\n",
      "[67, 90, 64]\n",
      "[86, 90, 97]\n",
      "Transposed Matrix:\n",
      "[79, 67, 86]\n",
      "[88, 90, 90]\n",
      "[55, 64, 97]\n"
     ]
    }
   ],
   "source": [
    "def transpose_matrix(matrix):\n",
    "    return [[matrix[j][i] for j in range(len(matrix))] for i in range(len(matrix[0]))]\n",
    "matrix = [[79, 88, 55], [67, 90, 64], [86, 90, 97]]\n",
    "\n",
    "transposed_matrix = transpose_matrix(matrix)\n",
    "print(\"Original Matrix:\")\n",
    "for row in matrix:\n",
    "    print(row)\n",
    "print(\"Transposed Matrix:\")\n",
    "for row in transposed_matrix:\n",
    "    print(row)"
   ]
  },
  {
   "cell_type": "markdown",
   "id": "ce2863c7",
   "metadata": {},
   "source": [
    "# 4.\tWrite a Python Program to Sort Words in Alphabetic Order?"
   ]
  },
  {
   "cell_type": "code",
   "execution_count": 4,
   "id": "403d314c",
   "metadata": {},
   "outputs": [
    {
     "name": "stdout",
     "output_type": "stream",
     "text": [
      "Enter words: umesh suresh ramesh yash varun arun\n",
      "Sorted Words:\n",
      "arun ramesh suresh umesh varun yash\n"
     ]
    }
   ],
   "source": [
    "def sort_words_alphabetically(sentence):\n",
    "    words = sentence.split()\n",
    "    return ' '.join(sorted(words))\n",
    "\n",
    "\n",
    "def main():\n",
    "    try:\n",
    "        input_words = input(\"Enter words: \")\n",
    "        sorted_sentence = sort_words_alphabetically(input_words)\n",
    "\n",
    "        print(\"Sorted Words:\")\n",
    "        print(sorted_sentence)\n",
    "\n",
    "    except Exception as e:\n",
    "        print(f\"error: {e}\")\n",
    "\n",
    "\n",
    "if __name__ == \"__main__\":\n",
    "    main()"
   ]
  },
  {
   "cell_type": "markdown",
   "id": "3c97ad34",
   "metadata": {},
   "source": [
    "# 5.\tWrite a Python Program to Remove Punctuation From a String?"
   ]
  },
  {
   "cell_type": "code",
   "execution_count": 5,
   "id": "774b2c52",
   "metadata": {},
   "outputs": [
    {
     "name": "stdout",
     "output_type": "stream",
     "text": [
      "Enter a string: @yashwant!!!!\n",
      "String without Punctuation:\n",
      "yashwant\n"
     ]
    }
   ],
   "source": [
    "import string\n",
    "\n",
    "def remove_punctuation(input_string):\n",
    "    return input_string.translate(str.maketrans('', '', string.punctuation))\n",
    "\n",
    "\n",
    "def main():\n",
    "    try:\n",
    "        input_string = input(\"Enter a string: \")\n",
    "        cleaned_string = remove_punctuation(input_string)\n",
    "\n",
    "        print(\"String without Punctuation:\")\n",
    "        print(cleaned_string)\n",
    "\n",
    "    except Exception as e:\n",
    "        print(f\"error: {e}\")\n",
    "\n",
    "\n",
    "if __name__ == \"__main__\":\n",
    "    main()"
   ]
  },
  {
   "cell_type": "markdown",
   "id": "a79c0885",
   "metadata": {},
   "source": [
    "# Done Regards,Yashwant"
   ]
  }
 ],
 "metadata": {
  "kernelspec": {
   "display_name": "Python 3 (ipykernel)",
   "language": "python",
   "name": "python3"
  },
  "language_info": {
   "codemirror_mode": {
    "name": "ipython",
    "version": 3
   },
   "file_extension": ".py",
   "mimetype": "text/x-python",
   "name": "python",
   "nbconvert_exporter": "python",
   "pygments_lexer": "ipython3",
   "version": "3.9.13"
  }
 },
 "nbformat": 4,
 "nbformat_minor": 5
}
